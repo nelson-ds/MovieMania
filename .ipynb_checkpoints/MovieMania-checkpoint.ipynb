{
 "cells": [
  {
   "cell_type": "markdown",
   "metadata": {},
   "source": [
    "## Movie Mania\n",
    "### A Project to analyze the relationship between a movie’s sentiment on Social Media and its crowd-sourced rating."
   ]
  },
  {
   "cell_type": "markdown",
   "metadata": {},
   "source": [
    "#### Section 1 - To be edited by Nelson"
   ]
  },
  {
   "cell_type": "code",
   "execution_count": 2,
   "metadata": {
    "collapsed": false,
    "scrolled": true
   },
   "outputs": [],
   "source": [
    "#Import libraries\n",
    "import sys\n",
    "import time\n",
    "import datetime\n",
    "import json\n",
    "import pandas as pd\n",
    "\n",
    "from tweepy import StreamListener\n",
    "from tweepy import OAuthHandler\n",
    "from tweepy import Stream\n",
    "from tweepy import API"
   ]
  },
  {
   "cell_type": "code",
   "execution_count": 3,
   "metadata": {
    "collapsed": true
   },
   "outputs": [],
   "source": [
    "#Fill in twitter dev info.\n",
    "consumer_key = '6UhBB4yCNDEnPcWrlmW84VVfK'\n",
    "consumer_secret = 'F0ZVLxQXP4Pm0hBxYhur4MndlgxET7IUStYEbj0zy212Lo4TNJ'\n",
    "access_token ='44631704-O9jj3LhyYewKzIXGes65WRkNhG6X5sLek8ZlVMDQF'\n",
    "access_token_secret = 'y8nDFRPYqcMDqicOfEfm2C0vGJyPJ6g5NTl9IrNz5jZhX'\n",
    "\n",
    "#This handles Twitter authetification and the connection to Twitter Streaming API\n",
    "auth = OAuthHandler(consumer_key, consumer_secret)\n",
    "auth.set_access_token(access_token, access_token_secret)\n",
    "api = API(auth)\n",
    "\n",
    "class StreamParser(StreamListener):\n",
    "    \"\"\" Controls how streaming data is parsed. Pass an outfile, or data will be writting to \n",
    "    sys.stdout (eg the screen)\n",
    "    \"\"\"\n",
    "    def __init__(self, outfile=None, max_tweets=5, max_seconds=30):\n",
    "        self.counter = 0\n",
    "        self.start_time = time.time()\n",
    "        # Set upper limits on maximum tweets or seconds before timeout\n",
    "        self.max_tweets = max_tweets\n",
    "        self.max_seconds = max_seconds\n",
    "        if outfile:\n",
    "            self.stdout = open(outfile, 'w')\n",
    "        else:\n",
    "            self.stdout = sys.stdout\n",
    "    \n",
    "    def on_data(self, data):\n",
    "        \"\"\" Data is a string, but formatted for json. Parses it\"\"\"\n",
    "        self.counter += 1\n",
    "        # time data is all timestamps.\n",
    "        current_time = time.time()\n",
    "        run_time = current_time - self.start_time\n",
    "                \n",
    "        # If we want to read time, easiest way is to convert from timestamp using datetime\n",
    "        formatted_time = datetime.datetime.now()\n",
    "            \n",
    "        # Technically, might not be the best place to put kill statements, but works well enough\n",
    "        if self.max_tweets:\n",
    "            if self.counter > self.max_tweets:\n",
    "                self._kill_stdout()\n",
    "                raise SystemExit('Max tweets of %s exceeded.  Killing stream... see %s' \\\n",
    "                             % (self.max_tweets, self.stdout))\n",
    "  \n",
    "        if self.max_seconds:\n",
    "            if run_time > self.max_seconds:\n",
    "                self._kill_stdout()\n",
    "                raise SystemExit('Max time of %s seconds exceeded.  Killing stream... see %s' \\\n",
    "                                 % (self.max_seconds, self.stdout))\n",
    "\n",
    "        print ('Tweet %s at %s.\\nEllapsed: %.2f seconds\\n' %(self.counter, formatted_time, run_time))\n",
    "\n",
    "        # Write to file\n",
    "        self.stdout.write(data)\n",
    "        return True\n",
    "\n",
    "    def _kill_stdout(self):\n",
    "        \"\"\" If self.stdout is a file, close it.  If sys.stdout, pass\"\"\"\n",
    "        if self.stdout is not sys.stdout:\n",
    "            self.stdout.close() \n",
    "    \n",
    "    def on_error(self, status):\n",
    "        print (status)"
   ]
  },
  {
   "cell_type": "code",
   "execution_count": 4,
   "metadata": {
    "collapsed": false
   },
   "outputs": [
    {
     "name": "stdout",
     "output_type": "stream",
     "text": [
      "Tweet 1 at 2017-04-24 02:24:23.450896.\n",
      "Ellapsed: 1.46 seconds\n",
      "\n",
      "Tweet 2 at 2017-04-24 02:24:23.482167.\n",
      "Ellapsed: 1.49 seconds\n",
      "\n",
      "Tweet 3 at 2017-04-24 02:24:23.482167.\n",
      "Ellapsed: 1.49 seconds\n",
      "\n",
      "Tweet 4 at 2017-04-24 02:24:23.482167.\n",
      "Ellapsed: 1.49 seconds\n",
      "\n",
      "Tweet 5 at 2017-04-24 02:24:23.513414.\n",
      "Ellapsed: 1.52 seconds\n",
      "\n",
      "Tweet 6 at 2017-04-24 02:24:23.513414.\n",
      "Ellapsed: 1.52 seconds\n",
      "\n",
      "Tweet 7 at 2017-04-24 02:24:23.513414.\n",
      "Ellapsed: 1.52 seconds\n",
      "\n",
      "Tweet 8 at 2017-04-24 02:24:23.513414.\n",
      "Ellapsed: 1.52 seconds\n",
      "\n",
      "Tweet 9 at 2017-04-24 02:24:23.513414.\n",
      "Ellapsed: 1.52 seconds\n",
      "\n",
      "Tweet 10 at 2017-04-24 02:24:23.522355.\n",
      "Ellapsed: 1.53 seconds\n",
      "\n"
     ]
    },
    {
     "ename": "SystemExit",
     "evalue": "Max tweets of 10 exceeded.  Killing stream... see <_io.TextIOWrapper name='twit.txt' mode='w' encoding='cp1252'>",
     "output_type": "error",
     "traceback": [
      "An exception has occurred, use %tb to see the full traceback.\n",
      "\u001b[1;31mSystemExit\u001b[0m\u001b[1;31m:\u001b[0m Max tweets of 10 exceeded.  Killing stream... see <_io.TextIOWrapper name='twit.txt' mode='w' encoding='cp1252'>\n"
     ]
    },
    {
     "name": "stderr",
     "output_type": "stream",
     "text": [
      "To exit: use 'exit', 'quit', or Ctrl-D.\n"
     ]
    }
   ],
   "source": [
    "# Stream 10 tweets, no matter the time it takes!\n",
    "listener = StreamParser(outfile='twit.txt', max_tweets=10, max_seconds=None)\n",
    "stream = Stream(auth, listener)\n",
    "\n",
    "#This line filter Twitter Streams to capture data by the keywords: 'candy', 'pants', 'ruby'\n",
    "stream.filter(track=['twitter', 'pants', 'movie'])"
   ]
  },
  {
   "cell_type": "code",
   "execution_count": 6,
   "metadata": {
    "collapsed": false,
    "scrolled": true
   },
   "outputs": [],
   "source": [
    "tweets = []\n",
    "tweet_file = open('twit.txt', \"r\")\n",
    "for line in tweet_file:\n",
    "    try:\n",
    "        tweet = json.loads(line)\n",
    "        tweets.append(tweet)\n",
    "    except:\n",
    "        continue"
   ]
  },
  {
   "cell_type": "code",
   "execution_count": 7,
   "metadata": {
    "collapsed": false
   },
   "outputs": [],
   "source": [
    "tw = pd.DataFrame(tweets)"
   ]
  },
  {
   "cell_type": "code",
   "execution_count": 8,
   "metadata": {
    "collapsed": false
   },
   "outputs": [
    {
     "data": {
      "text/html": [
       "<div>\n",
       "<table border=\"1\" class=\"dataframe\">\n",
       "  <thead>\n",
       "    <tr style=\"text-align: right;\">\n",
       "      <th></th>\n",
       "      <th>contributors</th>\n",
       "      <th>coordinates</th>\n",
       "      <th>created_at</th>\n",
       "      <th>display_text_range</th>\n",
       "      <th>entities</th>\n",
       "      <th>extended_entities</th>\n",
       "      <th>favorite_count</th>\n",
       "      <th>favorited</th>\n",
       "      <th>filter_level</th>\n",
       "      <th>geo</th>\n",
       "      <th>...</th>\n",
       "      <th>quoted_status_id</th>\n",
       "      <th>quoted_status_id_str</th>\n",
       "      <th>retweet_count</th>\n",
       "      <th>retweeted</th>\n",
       "      <th>retweeted_status</th>\n",
       "      <th>source</th>\n",
       "      <th>text</th>\n",
       "      <th>timestamp_ms</th>\n",
       "      <th>truncated</th>\n",
       "      <th>user</th>\n",
       "    </tr>\n",
       "  </thead>\n",
       "  <tbody>\n",
       "    <tr>\n",
       "      <th>0</th>\n",
       "      <td>None</td>\n",
       "      <td>None</td>\n",
       "      <td>Mon Apr 24 09:24:33 +0000 2017</td>\n",
       "      <td>NaN</td>\n",
       "      <td>{'hashtags': [], 'urls': [{'url': '', 'expande...</td>\n",
       "      <td>NaN</td>\n",
       "      <td>0</td>\n",
       "      <td>False</td>\n",
       "      <td>low</td>\n",
       "      <td>None</td>\n",
       "      <td>...</td>\n",
       "      <td>NaN</td>\n",
       "      <td>NaN</td>\n",
       "      <td>0</td>\n",
       "      <td>False</td>\n",
       "      <td>{'in_reply_to_screen_name': None, 'place': Non...</td>\n",
       "      <td>&lt;a href=\"http://twitter.com/download/android\" ...</td>\n",
       "      <td>RT @2013manaz: 🔴Üniversiteli Pelin🔴19 yasında ...</td>\n",
       "      <td>1493025873909</td>\n",
       "      <td>False</td>\n",
       "      <td>{'protected': False, 'statuses_count': 14, 'ge...</td>\n",
       "    </tr>\n",
       "    <tr>\n",
       "      <th>1</th>\n",
       "      <td>None</td>\n",
       "      <td>None</td>\n",
       "      <td>Mon Apr 24 09:24:34 +0000 2017</td>\n",
       "      <td>NaN</td>\n",
       "      <td>{'hashtags': [], 'urls': [], 'media': [{'expan...</td>\n",
       "      <td>{'media': [{'expanded_url': 'https://twitter.c...</td>\n",
       "      <td>0</td>\n",
       "      <td>False</td>\n",
       "      <td>low</td>\n",
       "      <td>None</td>\n",
       "      <td>...</td>\n",
       "      <td>NaN</td>\n",
       "      <td>NaN</td>\n",
       "      <td>0</td>\n",
       "      <td>False</td>\n",
       "      <td>{'in_reply_to_screen_name': None, 'place': Non...</td>\n",
       "      <td>&lt;a href=\"http://twitter.com\" rel=\"nofollow\"&gt;Tw...</td>\n",
       "      <td>RT @saveKRYSTAL: https://t.co/I8n2EyjEtP</td>\n",
       "      <td>1493025874069</td>\n",
       "      <td>False</td>\n",
       "      <td>{'protected': False, 'statuses_count': 1437, '...</td>\n",
       "    </tr>\n",
       "  </tbody>\n",
       "</table>\n",
       "<p>2 rows × 32 columns</p>\n",
       "</div>"
      ],
      "text/plain": [
       "  contributors coordinates                      created_at display_text_range  \\\n",
       "0         None        None  Mon Apr 24 09:24:33 +0000 2017                NaN   \n",
       "1         None        None  Mon Apr 24 09:24:34 +0000 2017                NaN   \n",
       "\n",
       "                                            entities  \\\n",
       "0  {'hashtags': [], 'urls': [{'url': '', 'expande...   \n",
       "1  {'hashtags': [], 'urls': [], 'media': [{'expan...   \n",
       "\n",
       "                                   extended_entities  favorite_count  \\\n",
       "0                                                NaN               0   \n",
       "1  {'media': [{'expanded_url': 'https://twitter.c...               0   \n",
       "\n",
       "  favorited filter_level   geo  \\\n",
       "0     False          low  None   \n",
       "1     False          low  None   \n",
       "\n",
       "                         ...                          quoted_status_id  \\\n",
       "0                        ...                                       NaN   \n",
       "1                        ...                                       NaN   \n",
       "\n",
       "  quoted_status_id_str retweet_count retweeted  \\\n",
       "0                  NaN             0     False   \n",
       "1                  NaN             0     False   \n",
       "\n",
       "                                    retweeted_status  \\\n",
       "0  {'in_reply_to_screen_name': None, 'place': Non...   \n",
       "1  {'in_reply_to_screen_name': None, 'place': Non...   \n",
       "\n",
       "                                              source  \\\n",
       "0  <a href=\"http://twitter.com/download/android\" ...   \n",
       "1  <a href=\"http://twitter.com\" rel=\"nofollow\">Tw...   \n",
       "\n",
       "                                                text   timestamp_ms truncated  \\\n",
       "0  RT @2013manaz: 🔴Üniversiteli Pelin🔴19 yasında ...  1493025873909     False   \n",
       "1           RT @saveKRYSTAL: https://t.co/I8n2EyjEtP  1493025874069     False   \n",
       "\n",
       "                                                user  \n",
       "0  {'protected': False, 'statuses_count': 14, 'ge...  \n",
       "1  {'protected': False, 'statuses_count': 1437, '...  \n",
       "\n",
       "[2 rows x 32 columns]"
      ]
     },
     "execution_count": 8,
     "metadata": {},
     "output_type": "execute_result"
    }
   ],
   "source": [
    "tw.head(2)"
   ]
  },
  {
   "cell_type": "code",
   "execution_count": 9,
   "metadata": {
    "collapsed": false
   },
   "outputs": [
    {
     "data": {
      "text/html": [
       "<div>\n",
       "<table border=\"1\" class=\"dataframe\">\n",
       "  <thead>\n",
       "    <tr style=\"text-align: right;\">\n",
       "      <th></th>\n",
       "      <th>user</th>\n",
       "      <th>text</th>\n",
       "      <th>favorite_count</th>\n",
       "      <th>retweet_count</th>\n",
       "      <th>source</th>\n",
       "    </tr>\n",
       "  </thead>\n",
       "  <tbody>\n",
       "    <tr>\n",
       "      <th>0</th>\n",
       "      <td>{'protected': False, 'statuses_count': 14, 'ge...</td>\n",
       "      <td>RT @2013manaz: 🔴Üniversiteli Pelin🔴19 yasında ...</td>\n",
       "      <td>0</td>\n",
       "      <td>0</td>\n",
       "      <td>&lt;a href=\"http://twitter.com/download/android\" ...</td>\n",
       "    </tr>\n",
       "    <tr>\n",
       "      <th>1</th>\n",
       "      <td>{'protected': False, 'statuses_count': 1437, '...</td>\n",
       "      <td>RT @saveKRYSTAL: https://t.co/I8n2EyjEtP</td>\n",
       "      <td>0</td>\n",
       "      <td>0</td>\n",
       "      <td>&lt;a href=\"http://twitter.com\" rel=\"nofollow\"&gt;Tw...</td>\n",
       "    </tr>\n",
       "  </tbody>\n",
       "</table>\n",
       "</div>"
      ],
      "text/plain": [
       "                                                user  \\\n",
       "0  {'protected': False, 'statuses_count': 14, 'ge...   \n",
       "1  {'protected': False, 'statuses_count': 1437, '...   \n",
       "\n",
       "                                                text  favorite_count  \\\n",
       "0  RT @2013manaz: 🔴Üniversiteli Pelin🔴19 yasında ...               0   \n",
       "1           RT @saveKRYSTAL: https://t.co/I8n2EyjEtP               0   \n",
       "\n",
       "   retweet_count                                             source  \n",
       "0              0  <a href=\"http://twitter.com/download/android\" ...  \n",
       "1              0  <a href=\"http://twitter.com\" rel=\"nofollow\">Tw...  "
      ]
     },
     "execution_count": 9,
     "metadata": {},
     "output_type": "execute_result"
    }
   ],
   "source": [
    "tw[[\"user\",\"text\",\"favorite_count\", \"retweet_count\",\"source\",]][0:2]"
   ]
  },
  {
   "cell_type": "code",
   "execution_count": 10,
   "metadata": {
    "collapsed": false
   },
   "outputs": [
    {
     "data": {
      "text/plain": [
       "10"
      ]
     },
     "execution_count": 10,
     "metadata": {},
     "output_type": "execute_result"
    }
   ],
   "source": [
    "len(tw)"
   ]
  },
  {
   "cell_type": "markdown",
   "metadata": {},
   "source": [
    "#### Section 2 - To be updated by Justin"
   ]
  },
  {
   "cell_type": "code",
   "execution_count": null,
   "metadata": {
    "collapsed": true
   },
   "outputs": [],
   "source": []
  },
  {
   "cell_type": "markdown",
   "metadata": {},
   "source": [
    "#### Section 2 - To be updated by Shrija"
   ]
  },
  {
   "cell_type": "code",
   "execution_count": null,
   "metadata": {
    "collapsed": true
   },
   "outputs": [],
   "source": []
  }
 ],
 "metadata": {
  "kernelspec": {
   "display_name": "Python 3",
   "language": "python",
   "name": "python3"
  },
  "language_info": {
   "codemirror_mode": {
    "name": "ipython",
    "version": 3
   },
   "file_extension": ".py",
   "mimetype": "text/x-python",
   "name": "python",
   "nbconvert_exporter": "python",
   "pygments_lexer": "ipython3",
   "version": "3.5.3"
  }
 },
 "nbformat": 4,
 "nbformat_minor": 0
}
