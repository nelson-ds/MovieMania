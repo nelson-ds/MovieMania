{
 "cells": [
  {
   "cell_type": "markdown",
   "metadata": {},
   "source": [
    "## Movie Mania\n",
    "#### Team - Nelson Dsouza, Justin Petelka, Shrija Priyanil"
   ]
  },
  {
   "cell_type": "markdown",
   "metadata": {},
   "source": [
    "### Part 1 - Get Movie Tweets"
   ]
  },
  {
   "cell_type": "code",
   "execution_count": 1,
   "metadata": {
    "collapsed": false,
    "scrolled": true
   },
   "outputs": [],
   "source": [
    "#Import libraries\n",
    "import sys\n",
    "import time\n",
    "import datetime\n",
    "import json\n",
    "import pandas as pd\n",
    "import tweepy\n",
    "import re\n",
    "import operator\n",
    "from collections import Counter\n",
    "from scipy.stats.stats import pearsonr\n",
    "\n",
    "from data.sentiments_nrc import SENTIMENTS\n",
    "from data.sentiments_nrc import EMOTIONS\n",
    "\n",
    "pd.set_option('display.max_rows', 500)\n",
    "pd.set_option('display.max_columns', 500)\n",
    "pd.set_option('display.width', 1000)"
   ]
  },
  {
   "cell_type": "code",
   "execution_count": 2,
   "metadata": {
    "collapsed": false
   },
   "outputs": [],
   "source": [
    "#Set up keys and api authentication\n",
    "consumer_key = ''\n",
    "consumer_secret = ''\n",
    "access_token =''\n",
    "access_token_secret = ''\n",
    "\n",
    "auth = tweepy.OAuthHandler(consumer_key, consumer_secret)\n",
    "auth.set_access_token(access_token, access_token_secret)\n",
    "api = tweepy.API(auth)"
   ]
  },
  {
   "cell_type": "code",
   "execution_count": 3,
   "metadata": {
    "collapsed": false
   },
   "outputs": [],
   "source": [
    "def findTweets(maxTweets, maxPerPage, searchTweet, fil):\n",
    "    '''\n",
    "    Function to find tweets via REST API given search string\n",
    "    '''\n",
    "    tweetCount = 0\n",
    "    try:\n",
    "        while (tweetCount < maxTweets):\n",
    "            with open(fil, 'a', encoding='UTF-8') as f:\n",
    "                for tweet in tweepy.Cursor(api.search, rpp=maxPerPage, q=searchTweet).items(maxTweets):\n",
    "                    json_tweet = tweet._json\n",
    "                    f.write(json.dumps(json_tweet) + '\\n')\n",
    "                    tweetCount += 1\n",
    "    except KeyboardInterrupt:\n",
    "        print('Downloaded {0} tweets'.format(tweetCount))\n",
    "        pass\n",
    "    except tweepy.TweepError as e:\n",
    "        print('Tweep error raised',str(e))\n",
    "        pass\n",
    "\n",
    "    f.close()\n",
    "    print('Downloaded {0} tweets'.format(tweetCount))"
   ]
  },
  {
   "cell_type": "code",
   "execution_count": 4,
   "metadata": {
    "collapsed": false
   },
   "outputs": [],
   "source": [
    "maxTweets = 2500\n",
    "maxPerPage = 50\n",
    "# findTweets(maxTweets, maxPerPage, '#BlackPanther OR #blackpanther', 'BP.json')"
   ]
  },
  {
   "cell_type": "code",
   "execution_count": 5,
   "metadata": {
    "collapsed": false
   },
   "outputs": [],
   "source": [
    "maxTweets = 2500\n",
    "maxPerPage = 50\n",
    "# findTweets(maxTweets, maxPerPage, '#ReadyPlayerOne OR #readyplayerone', 'RP.json')"
   ]
  },
  {
   "cell_type": "code",
   "execution_count": 6,
   "metadata": {
    "collapsed": true
   },
   "outputs": [],
   "source": [
    "def load_tweets(tw_file):\n",
    "    '''\n",
    "    Function to load only - \"user\",\"text\",\"favorite_count\", \"retweet_count\",\"source\" for tweets from file\n",
    "    '''\n",
    "    tweets = []\n",
    "    tweet_file = open(tw_file, \"r\")\n",
    "    \n",
    "    for line in tweet_file:\n",
    "        try:\n",
    "            tweet = json.loads(line)\n",
    "            #print(tweet)\n",
    "            tweets.append(tweet)\n",
    "        except:\n",
    "            continue\n",
    "    tw_pd = pd.DataFrame(tweets)\n",
    "    return (tw_pd[[\"user\",\"text\",\"favorite_count\", \"retweet_count\",\"source\", \"retweeted_status\"]], tw_pd[\"text\"])"
   ]
  },
  {
   "cell_type": "code",
   "execution_count": 7,
   "metadata": {
    "collapsed": false,
    "scrolled": true
   },
   "outputs": [],
   "source": [
    "# Extract only relevant tweet attributes\n",
    "\n",
    "tw_bp_all, tw_bp_txt = load_tweets('BP.json')\n",
    "tw_rp_all, tw_rp_txt = load_tweets('RP.json')"
   ]
  },
  {
   "cell_type": "markdown",
   "metadata": {},
   "source": [
    "### Part 2 - Analyze Tweet metadata"
   ]
  },
  {
   "cell_type": "code",
   "execution_count": 8,
   "metadata": {
    "collapsed": false
   },
   "outputs": [],
   "source": [
    "def populate_aggr_dict(users, key, dctnry):\n",
    "    '''\n",
    "    Function to populate dictionary for a tweet metadata\n",
    "    '''\n",
    "    for user in users:\n",
    "        if user[key] not in dctnry.keys(): dctnry[user[key]] = 1\n",
    "        else: dctnry[user[key]] +=1\n",
    "    return dctnry\n",
    "\n",
    "\n",
    "def twet_aggr_metadata(tw_list):\n",
    "    '''\n",
    "    Function to aggregate metadata for a tweet set\n",
    "    '''\n",
    "    users = list(tw_list['user'])\n",
    "    t_id = populate_aggr_dict(users, 'id', {})\n",
    "    t_lc = populate_aggr_dict(users, 'location', {})\n",
    "    t_vr = populate_aggr_dict(users, 'verified', {})\n",
    "    return (t_id, t_lc, t_vr)\n",
    "\n",
    "\n",
    "def user_aggr_metadata(tw_list):\n",
    "    '''\n",
    "    Function to gather the user related attributes exactly once for each user\n",
    "    '''\n",
    "    users = list(tw_list['user'])\n",
    "    user_pass, u_fv, u_fl, u_fr = {}, {}, {}, {}\n",
    "    for user in users:\n",
    "        if user['id'] not in user_pass.keys():\n",
    "            u_fv[user['id']] = user['favourites_count']\n",
    "            u_fl[user['id']] = user['followers_count']\n",
    "            u_fr[user['id']] = user['friends_count']\n",
    "        else: user_pass[user['id']] +=1\n",
    "    return (u_fv, u_fl, u_fr)\n",
    "    "
   ]
  },
  {
   "cell_type": "code",
   "execution_count": 9,
   "metadata": {
    "collapsed": false
   },
   "outputs": [],
   "source": [
    "# Calculate aggreate tweet statistics for movies\n",
    "from operator import add\n",
    "\n",
    "tw_bp_usr_unid, tw_bp_usr_locn, tw_bp_usr_vrfd = twet_aggr_metadata(tw_bp_all)\n",
    "tw_bp_twt_favs, tw_bp_twt_foll, tw_bp_twt_frnd = user_aggr_metadata(tw_bp_all)\n",
    "tw_bp_tot_rtwt = list(tw_bp_all['retweet_count'])\n",
    "tw_bp_tot_favs = list(map(add, list(tw_bp_all['favorite_count']),\n",
    "                     [0 if pd.isnull(item) else item['favorite_count'] for item in list(tw_bp_all['retweeted_status'])]))\n",
    "\n",
    "tw_rp_usr_unid, tw_rp_usr_locn, tw_rp_usr_vrfd = twet_aggr_metadata(tw_rp_all)\n",
    "tw_rp_twt_favs, tw_rp_twt_foll, tw_rp_twt_frnd = user_aggr_metadata(tw_rp_all)\n",
    "tw_rp_tot_rtwt = list(tw_rp_all['retweet_count'])\n",
    "tw_rp_tot_favs = list(map(add, list(tw_rp_all['favorite_count']),\n",
    "                     [0 if pd.isnull(item) else item['favorite_count'] for item in list(tw_rp_all['retweeted_status'])]))"
   ]
  },
  {
   "cell_type": "code",
   "execution_count": 10,
   "metadata": {
    "collapsed": false
   },
   "outputs": [
    {
     "name": "stdout",
     "output_type": "stream",
     "text": [
      "Statistics Black Panther / Ready Player One\n",
      "\n",
      "\n",
      "Unique Users who tweeted 2382  /  2179\n",
      "\n",
      "User id's with maximum tweets [(750402925063798784, 4), (2279614957, 5), (2507243704, 12)] \n",
      " [(845855575741124611, 9), (2550251936, 10), (186668321, 16)]\n",
      "\n",
      "Tweets from most locations [('Los Angeles, CA', 18), ('Atlanta, GA', 18), ('Johannesburg, South Africa', 21), ('United States', 28), ('', 691)] \n",
      " [('Philippines', 11), ('United States', 13), ('España', 16), ('Virginia', 17), ('', 736)]\n",
      "\n",
      "Users with verified accounts 25  /  51\n",
      "\n",
      "Average User Followers 2957  /  10390\n",
      "\n",
      "Average User Friends 867  /  1293\n",
      "\n",
      "Average User Favorites 22674  /  10808\n",
      "\n",
      "Total Tweet Retweets 3368437  /  421102\n",
      "\n",
      "Total Tweet Favorites 7276180  /  443787\n"
     ]
    }
   ],
   "source": [
    "bp_len, rp_len = len(tw_bp_all), len(tw_rp_all)\n",
    "\n",
    "print('Statistics Black Panther / Ready Player One')\n",
    "\n",
    "print('\\n\\nUnique Users who tweeted', len(tw_bp_usr_unid), ' / ', len(tw_rp_usr_unid))\n",
    "print('\\nUser id\\'s with maximum tweets', sorted(tw_bp_usr_unid.items(), key=operator.itemgetter(1))[-3:], '\\n',\n",
    "                                     sorted(tw_rp_usr_unid.items(), key=operator.itemgetter(1))[-3:])\n",
    "print('\\nTweets from most locations', sorted(tw_bp_usr_locn.items(), key=operator.itemgetter(1))[-5:], '\\n',\n",
    "                                      sorted(tw_rp_usr_locn.items(), key=operator.itemgetter(1))[-5:])\n",
    "print('\\nUsers with verified accounts', tw_bp_usr_vrfd[True], ' / ', tw_rp_usr_vrfd[True])\n",
    "\n",
    "\n",
    "print('\\nAverage User Followers', round(sum(tw_bp_twt_foll.values()) / bp_len), ' / ',\n",
    "                                  round(sum(tw_rp_twt_foll.values()) / rp_len))\n",
    "\n",
    "print('\\nAverage User Friends', round(sum(tw_bp_twt_frnd.values()) / bp_len), ' / ',\n",
    "                                  round(sum(tw_rp_twt_frnd.values()) / rp_len))\n",
    "\n",
    "print('\\nAverage User Favorites', round(sum(tw_bp_twt_favs.values()) / bp_len), ' / ',\n",
    "                                  round(sum(tw_rp_twt_favs.values()) / rp_len))\n",
    "\n",
    "print('\\nTotal Tweet Retweets', sum(tw_bp_tot_rtwt), ' / ', sum(tw_rp_tot_rtwt))\n",
    "\n",
    "print('\\nTotal Tweet Favorites', sum(tw_bp_tot_favs), ' / ', sum(tw_rp_tot_favs))"
   ]
  },
  {
   "cell_type": "markdown",
   "metadata": {},
   "source": [
    "### Part 3 - Categorizing tweet sentiments"
   ]
  },
  {
   "cell_type": "code",
   "execution_count": 11,
   "metadata": {
    "collapsed": false
   },
   "outputs": [],
   "source": [
    "def get_tweet_sentiment(tweets):\n",
    "    '''\n",
    "    Function to get sentiment of a tweet\n",
    "    '''\n",
    "    senti, senti_words = {}, {}\n",
    "    for emotion in EMOTIONS:\n",
    "        senti[emotion], senti_words[emotion] = 0, []      \n",
    "   \n",
    "    for tweet in tweets:\n",
    "        words_list = re.split('\\W+', tweet)\n",
    "    \n",
    "        for wrd in words_list:\n",
    "            if wrd in SENTIMENTS.keys():\n",
    "                for sentiment in SENTIMENTS[wrd]:\n",
    "                    senti[sentiment] += 1\n",
    "                    senti_words[sentiment] = senti_words[sentiment] + [wrd]\n",
    "                    \n",
    "    for emotion in EMOTIONS:\n",
    "        senti_words[emotion] = Counter(senti_words[emotion])\n",
    "\n",
    "    return(senti, senti_words)\n",
    "\n",
    "\n",
    "def get_tweet_sentiment_per(tw_senti):\n",
    "    '''\n",
    "    Function to get percentage of sentiment\n",
    "    tw_senti[0]  Gives the count each sentiment\n",
    "    tw_senti[1]['anger'] Gives the count of each word for the sentiment\n",
    "    '''\n",
    "    mf =  1/sum(tw_senti[0].values())*100\n",
    "    for key in tw_senti[0]:\n",
    "        tw_senti[0][key] = mf*tw_senti[0][key]\n",
    "        \n",
    "    return tw_senti"
   ]
  },
  {
   "cell_type": "code",
   "execution_count": 12,
   "metadata": {
    "collapsed": false
   },
   "outputs": [
    {
     "name": "stdout",
     "output_type": "stream",
     "text": [
      "All Sentiments\n",
      " ['anger', 'anticipation', 'disgust', 'fear', 'joy', 'negative', 'positive', 'sadness', 'surprise', 'trust']\n",
      "\n",
      "\n",
      "Black Panther:  {'disgust': 0.27888929307627014, 'fear': 12.064993330908209, 'sadness': 0.4243967503334546, 'anticipation': 23.717715532921062, 'trust': 6.1719413119922395, 'anger': 1.2004365223717717, 'joy': 11.992239602279618, 'surprise': 11.567842851946162, 'negative': 13.495816660603856, 'positive': 19.08572814356736}\n",
      "\n",
      "Ready Player One Sentiments:  {'disgust': 2.674539770753734, 'fear': 4.5154567558179926, 'sadness': 3.5081625564432093, 'anticipation': 18.513372698853768, 'trust': 12.330670371656826, 'anger': 3.542896839180271, 'joy': 10.350816255644322, 'surprise': 8.787773532476555, 'negative': 9.517193469954845, 'positive': 26.25911774921848}\n"
     ]
    }
   ],
   "source": [
    "# Segregating tweet emotions and words having those emotions\n",
    "tw_senti_bp = get_tweet_sentiment(tw_bp_txt)\n",
    "tw_senti_rp = get_tweet_sentiment(tw_rp_txt)\n",
    "\n",
    "# Get percentage of sentiment\n",
    "tw_senti_bp_per = get_tweet_sentiment_per(tw_senti_bp)\n",
    "tw_senti_rp_per = get_tweet_sentiment_per(tw_senti_rp)\n",
    "all_sentiments = sorted(tw_senti_bp_per[0].keys())\n",
    "\n",
    "print('All Sentiments\\n', all_sentiments)\n",
    "print('\\n\\nBlack Panther: ', tw_senti_bp_per[0])\n",
    "print('\\nReady Player One Sentiments: ', tw_senti_rp_per[0])"
   ]
  },
  {
   "cell_type": "markdown",
   "metadata": {},
   "source": [
    "### Part 4 - Retrieving OMDB Data"
   ]
  },
  {
   "cell_type": "code",
   "execution_count": 13,
   "metadata": {
    "collapsed": true
   },
   "outputs": [],
   "source": [
    "import json, requests\n",
    "def retrieve_omdb_rating(api, mov):\n",
    "    '''\n",
    "    Function to retrieve omdb rating for the movie\n",
    "    '''\n",
    "    url = api + mov\n",
    "    response = requests.get(url)\n",
    "    omdb_response = json.loads(response.text)\n",
    "    return omdb_response"
   ]
  },
  {
   "cell_type": "code",
   "execution_count": 14,
   "metadata": {
    "collapsed": false,
    "scrolled": true
   },
   "outputs": [
    {
     "name": "stdout",
     "output_type": "stream",
     "text": [
      "{'Runtime': '134 min', 'Poster': 'https://ia.media-imdb.com/images/M/MV5BMTg1MTY2MjYzNV5BMl5BanBnXkFtZTgwMTc4NTMwNDI@._V1_SX300.jpg', 'DVD': 'N/A', 'Language': 'Swahili, Nama, English, Xhosa, Korean', 'Year': '2018', 'Metascore': '88', 'Response': 'True', 'BoxOffice': '$501,105,037', 'Ratings': [{'Source': 'Internet Movie Database', 'Value': '7.8/10'}, {'Source': 'Rotten Tomatoes', 'Value': '97%'}, {'Source': 'Metacritic', 'Value': '88/100'}], 'Plot': \"T'Challa, the King of Wakanda, rises to the throne in the isolated, technologically advanced African nation, but his claim is challenged by a vengeful outsider who was a childhood victim of T'Challa's father's mistake.\", 'imdbVotes': '201,861', 'Actors': \"Chadwick Boseman, Michael B. Jordan, Lupita Nyong'o, Danai Gurira\", 'imdbID': 'tt1825683', 'imdbRating': '7.8', 'Genre': 'Action, Adventure, Sci-Fi', 'Title': 'Black Panther', 'Country': 'USA', 'Writer': 'Ryan Coogler, Joe Robert Cole, Stan Lee (based on the Marvel Comics by), Jack Kirby (based on the Marvel Comics by)', 'Type': 'movie', 'Director': 'Ryan Coogler', 'Awards': '14 nominations.', 'Rated': 'PG-13', 'Production': 'Marvel Studios', 'Released': '16 Feb 2018', 'Website': 'https://www.facebook.com/BlackPantherMovie/'} \n",
      "\n",
      "\n",
      " {'Runtime': '140 min', 'Poster': 'https://ia.media-imdb.com/images/M/MV5BY2JiYTNmZTctYTQ1OC00YjU4LWEwMjYtZjkwY2Y5MDI0OTU3XkEyXkFqcGdeQXVyNTI4MzE4MDU@._V1_SX300.jpg', 'DVD': 'N/A', 'Language': 'English', 'Year': '2018', 'Metascore': '64', 'Response': 'True', 'BoxOffice': 'N/A', 'Ratings': [{'Source': 'Internet Movie Database', 'Value': '8.1/10'}, {'Source': 'Rotten Tomatoes', 'Value': '80%'}, {'Source': 'Metacritic', 'Value': '64/100'}], 'Plot': 'When the creator of a virtual reality world called the OASIS dies, he releases a video in which he challenges all OASIS users to find his Easter Egg, which will give the finder his fortune.', 'imdbVotes': '1,989', 'Actors': 'Tye Sheridan, Olivia Cooke, Ben Mendelsohn, Lena Waithe', 'imdbID': 'tt1677720', 'imdbRating': '8.1', 'Genre': 'Action, Adventure, Sci-Fi', 'Title': 'Ready Player One', 'Country': 'USA', 'Writer': 'Zak Penn (screenplay by), Ernest Cline (screenplay by), Ernest Cline (based on the novel by)', 'Type': 'movie', 'Director': 'Steven Spielberg', 'Awards': 'N/A', 'Rated': 'PG-13', 'Production': 'Warner Bros. Pictures', 'Released': '29 Mar 2018', 'Website': 'http://readyplayeronemovie.com/'} \n",
      "\n",
      "Meta Ratings\n",
      "Black Panther:  88.0 \n",
      "Ready Player One:  64.0 \n",
      "\n",
      "IMBD Ratings\n",
      "Black Panther:  7.8 \n",
      "Ready Player One:  8.1 \n",
      "\n",
      "Rotten Tomatoes Ratings\n",
      "Black Panther:  97.0 \n",
      "Ready Player One:  80.0\n"
     ]
    }
   ],
   "source": [
    "api = \"\"\n",
    "bp = \"Black+Panther&y=2018\"\n",
    "rp = \"Ready+Player+One&y=2018\"\n",
    "\n",
    "omdb_bp = retrieve_omdb_rating(api, bp)\n",
    "omdb_rp = retrieve_omdb_rating(api, rp)\n",
    "\n",
    "meta_rating_bp = float(omdb_bp['Ratings'][2]['Value'].split('/')[0])\n",
    "meta_rating_rp = float(omdb_rp['Ratings'][2]['Value'].split('/')[0])\n",
    "\n",
    "imdb_rating_bp = float(omdb_bp['Ratings'][0]['Value'].split('/')[0])\n",
    "imdb_rating_rp = float(omdb_rp['Ratings'][0]['Value'].split('/')[0])\n",
    "\n",
    "rotn_rating_bp = float(omdb_bp['Ratings'][1]['Value'].split('/')[0][:-1])\n",
    "rotn_rating_rp = float(omdb_rp['Ratings'][1]['Value'].split('/')[0][:-1])\n",
    "\n",
    "print(omdb_bp, '\\n\\n\\n', omdb_rp,  \n",
    "      '\\n\\nMeta Ratings\\nBlack Panther: ', meta_rating_bp, '\\nReady Player One: ', meta_rating_rp,\n",
    "      '\\n\\nIMBD Ratings\\nBlack Panther: ', imdb_rating_bp, '\\nReady Player One: ', imdb_rating_rp,\n",
    "      '\\n\\nRotten Tomatoes Ratings\\nBlack Panther: ', rotn_rating_bp, '\\nReady Player One: ', rotn_rating_rp)"
   ]
  },
  {
   "cell_type": "markdown",
   "metadata": {},
   "source": [
    "### Part 5 - Analyzing Correlation between Tweet sentiments and OMDB rating"
   ]
  },
  {
   "cell_type": "code",
   "execution_count": 15,
   "metadata": {
    "collapsed": true
   },
   "outputs": [],
   "source": [
    "def aggregate_sentiments(sentiments, movies_sentiments):\n",
    "    '''\n",
    "    Function to group all movie sentiments\n",
    "    '''\n",
    "    sentiments_movies = {}\n",
    "    for sentiment in all_sentiments:\n",
    "        movie_sentiment=[]\n",
    "        for movie in movies_sentiments:\n",
    "            #print(movie)\n",
    "            movie_sentiment.append(movie[sentiment])\n",
    "        sentiments_movies[sentiment] = movie_sentiment\n",
    "    return sentiments_movies   \n",
    "\n",
    "\n",
    "def calculate_sentiment_rating_corr(movie_sentiments, movie_ratings):\n",
    "    '''\n",
    "    Function to calculate Pearson's Correlation for movies\n",
    "    Returns (Pearson’s correlation coefficient, 2-tailed p-value)\n",
    "    '''\n",
    "    sentiment_rating_correlation = {}\n",
    "    for sentiment in movie_sentiments:\n",
    "        sentiment_rating_correlation[sentiment] = pearsonr([round(item, 0) for item in movie_sentiments[sentiment]], movie_ratings)\n",
    "    return sentiment_rating_correlation"
   ]
  },
  {
   "cell_type": "code",
   "execution_count": 16,
   "metadata": {
    "collapsed": false
   },
   "outputs": [
    {
     "name": "stdout",
     "output_type": "stream",
     "text": [
      "Metacritic:\n",
      " {'disgust': (-1.0, 0.0), 'fear': (1.0, 0.0), 'sadness': (-1.0, 0.0), 'joy': (1.0, 0.0), 'negative': (1.0, 0.0), 'anger': (-1.0, 0.0), 'anticipation': (1.0, 0.0), 'surprise': (1.0, 0.0), 'trust': (-1.0, 0.0), 'positive': (-1.0, 0.0)} \n",
      "\n",
      "IMDB:\n",
      " {'disgust': (1.0, 0.0), 'fear': (-1.0, 0.0), 'sadness': (1.0, 0.0), 'joy': (-1.0, 0.0), 'negative': (-1.0, 0.0), 'anger': (1.0, 0.0), 'anticipation': (-1.0, 0.0), 'surprise': (-1.0, 0.0), 'trust': (1.0, 0.0), 'positive': (1.0, 0.0)} \n",
      "\n",
      "Rotten Tomatoes:\n",
      " {'disgust': (-1.0, 0.0), 'fear': (1.0, 0.0), 'sadness': (-1.0, 0.0), 'joy': (1.0, 0.0), 'negative': (1.0, 0.0), 'anger': (-1.0, 0.0), 'anticipation': (1.0, 0.0), 'surprise': (1.0, 0.0), 'trust': (-1.0, 0.0), 'positive': (-1.0, 0.0)}\n"
     ]
    }
   ],
   "source": [
    "all_movies_sentiments = aggregate_sentiments(all_sentiments, [tw_senti_bp_per[0], tw_senti_rp_per[0]])\n",
    "all_movies_ratings_meta = [meta_rating_bp, meta_rating_rp]\n",
    "all_movies_ratings_imdb = [imdb_rating_bp, imdb_rating_rp]\n",
    "all_movies_ratings_rotn = [rotn_rating_bp, rotn_rating_rp]\n",
    "\n",
    "corr_meta = calculate_sentiment_rating_corr(all_movies_sentiments, all_movies_ratings_meta)\n",
    "corr_imdb = calculate_sentiment_rating_corr(all_movies_sentiments, all_movies_ratings_imdb)\n",
    "corr_rotn = calculate_sentiment_rating_corr(all_movies_sentiments, all_movies_ratings_rotn)\n",
    "\n",
    "print(\"Metacritic:\\n\", corr_meta, \"\\n\\nIMDB:\\n\", corr_imdb, \"\\n\\nRotten Tomatoes:\\n\", corr_rotn)"
   ]
  },
  {
   "cell_type": "markdown",
   "metadata": {},
   "source": [
    "## Conclusions\n",
    "For Metacritic and Rotten Tomatoes Ratings:\n",
    "    Positively correlated with rating: Anticipation, Fear, Joy, Negative, Surprise\n",
    "    Negatively correlated with rating: Anger, Disgust, Positive, Sadness, Trust\n",
    "    \n",
    "For IMDB Ratings:\n",
    "    Positively correlated with rating: Anger, Disgust, Positive, Sadness, Trust\n",
    "    Negatively correlated with rating: Anticipation, Fear, Joy, Negative, Surprise\n",
    "    \n",
    "## Caveats\n",
    "* Black Panther and Ready Player One were released during different months\n",
    "* Ready Player one noticably has high positive sentiment but lower rating which might have skewed the correlation metrics for Metacritic and Rotten Tomatoes\n",
    "* Rating system makes a huge difference as exemplified by difference between Metacritic / Rotten Tomatoes and IMDB\n",
    "* Adding more movies might make this more stable"
   ]
  }
 ],
 "metadata": {
  "kernelspec": {
   "display_name": "Python 3",
   "language": "python",
   "name": "python3"
  },
  "language_info": {
   "codemirror_mode": {
    "name": "ipython",
    "version": 3
   },
   "file_extension": ".py",
   "mimetype": "text/x-python",
   "name": "python",
   "nbconvert_exporter": "python",
   "pygments_lexer": "ipython3",
   "version": "3.5.3"
  }
 },
 "nbformat": 4,
 "nbformat_minor": 0
}
